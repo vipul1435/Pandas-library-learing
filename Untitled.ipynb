{
 "cells": [
  {
   "cell_type": "code",
   "execution_count": 1,
   "id": "4d078750",
   "metadata": {},
   "outputs": [],
   "source": [
    "import numpy as np\n",
    "import pandas as pd"
   ]
  },
  {
   "cell_type": "code",
   "execution_count": 2,
   "id": "a488ec8d",
   "metadata": {},
   "outputs": [],
   "source": [
    "dict1 = {\n",
    "    \"name\":[\"vipul\",\"ankit\",\"naman\",\"shivam\"],\n",
    "    \"mark\":[63,34,45,42],\n",
    "    \"city\":[\"mainprui\",\"rampur\",\"kanpur\",\"bareily\"]\n",
    "}"
   ]
  },
  {
   "cell_type": "code",
   "execution_count": 3,
   "id": "85d53679",
   "metadata": {},
   "outputs": [],
   "source": [
    "df1=pd.DataFrame(dict1)"
   ]
  },
  {
   "cell_type": "code",
   "execution_count": 4,
   "id": "94e23a8a",
   "metadata": {},
   "outputs": [
    {
     "data": {
      "text/html": [
       "<div>\n",
       "<style scoped>\n",
       "    .dataframe tbody tr th:only-of-type {\n",
       "        vertical-align: middle;\n",
       "    }\n",
       "\n",
       "    .dataframe tbody tr th {\n",
       "        vertical-align: top;\n",
       "    }\n",
       "\n",
       "    .dataframe thead th {\n",
       "        text-align: right;\n",
       "    }\n",
       "</style>\n",
       "<table border=\"1\" class=\"dataframe\">\n",
       "  <thead>\n",
       "    <tr style=\"text-align: right;\">\n",
       "      <th></th>\n",
       "      <th>name</th>\n",
       "      <th>mark</th>\n",
       "      <th>city</th>\n",
       "    </tr>\n",
       "  </thead>\n",
       "  <tbody>\n",
       "    <tr>\n",
       "      <th>0</th>\n",
       "      <td>vipul</td>\n",
       "      <td>63</td>\n",
       "      <td>mainprui</td>\n",
       "    </tr>\n",
       "    <tr>\n",
       "      <th>1</th>\n",
       "      <td>ankit</td>\n",
       "      <td>34</td>\n",
       "      <td>rampur</td>\n",
       "    </tr>\n",
       "    <tr>\n",
       "      <th>2</th>\n",
       "      <td>naman</td>\n",
       "      <td>45</td>\n",
       "      <td>kanpur</td>\n",
       "    </tr>\n",
       "    <tr>\n",
       "      <th>3</th>\n",
       "      <td>shivam</td>\n",
       "      <td>42</td>\n",
       "      <td>bareily</td>\n",
       "    </tr>\n",
       "  </tbody>\n",
       "</table>\n",
       "</div>"
      ],
      "text/plain": [
       "     name  mark      city\n",
       "0   vipul    63  mainprui\n",
       "1   ankit    34    rampur\n",
       "2   naman    45    kanpur\n",
       "3  shivam    42   bareily"
      ]
     },
     "execution_count": 4,
     "metadata": {},
     "output_type": "execute_result"
    }
   ],
   "source": [
    "df1"
   ]
  },
  {
   "cell_type": "code",
   "execution_count": 5,
   "id": "80c5f96b",
   "metadata": {},
   "outputs": [],
   "source": [
    "df1.to_csv('my_marks.csv')"
   ]
  },
  {
   "cell_type": "markdown",
   "id": "acf531d3",
   "metadata": {},
   "source": [
    "to remove index from csv file\n",
    "df1.to_csv('my_marks.csv',index=false)"
   ]
  },
  {
   "cell_type": "code",
   "execution_count": 6,
   "id": "e80a2f64",
   "metadata": {},
   "outputs": [
    {
     "data": {
      "text/html": [
       "<div>\n",
       "<style scoped>\n",
       "    .dataframe tbody tr th:only-of-type {\n",
       "        vertical-align: middle;\n",
       "    }\n",
       "\n",
       "    .dataframe tbody tr th {\n",
       "        vertical-align: top;\n",
       "    }\n",
       "\n",
       "    .dataframe thead th {\n",
       "        text-align: right;\n",
       "    }\n",
       "</style>\n",
       "<table border=\"1\" class=\"dataframe\">\n",
       "  <thead>\n",
       "    <tr style=\"text-align: right;\">\n",
       "      <th></th>\n",
       "      <th>name</th>\n",
       "      <th>mark</th>\n",
       "      <th>city</th>\n",
       "    </tr>\n",
       "  </thead>\n",
       "  <tbody>\n",
       "    <tr>\n",
       "      <th>0</th>\n",
       "      <td>vipul</td>\n",
       "      <td>63</td>\n",
       "      <td>mainprui</td>\n",
       "    </tr>\n",
       "    <tr>\n",
       "      <th>1</th>\n",
       "      <td>ankit</td>\n",
       "      <td>34</td>\n",
       "      <td>rampur</td>\n",
       "    </tr>\n",
       "  </tbody>\n",
       "</table>\n",
       "</div>"
      ],
      "text/plain": [
       "    name  mark      city\n",
       "0  vipul    63  mainprui\n",
       "1  ankit    34    rampur"
      ]
     },
     "execution_count": 6,
     "metadata": {},
     "output_type": "execute_result"
    }
   ],
   "source": [
    "df1.head(2)"
   ]
  },
  {
   "cell_type": "code",
   "execution_count": 7,
   "id": "c4527862",
   "metadata": {},
   "outputs": [
    {
     "data": {
      "text/html": [
       "<div>\n",
       "<style scoped>\n",
       "    .dataframe tbody tr th:only-of-type {\n",
       "        vertical-align: middle;\n",
       "    }\n",
       "\n",
       "    .dataframe tbody tr th {\n",
       "        vertical-align: top;\n",
       "    }\n",
       "\n",
       "    .dataframe thead th {\n",
       "        text-align: right;\n",
       "    }\n",
       "</style>\n",
       "<table border=\"1\" class=\"dataframe\">\n",
       "  <thead>\n",
       "    <tr style=\"text-align: right;\">\n",
       "      <th></th>\n",
       "      <th>name</th>\n",
       "      <th>mark</th>\n",
       "      <th>city</th>\n",
       "    </tr>\n",
       "  </thead>\n",
       "  <tbody>\n",
       "    <tr>\n",
       "      <th>2</th>\n",
       "      <td>naman</td>\n",
       "      <td>45</td>\n",
       "      <td>kanpur</td>\n",
       "    </tr>\n",
       "    <tr>\n",
       "      <th>3</th>\n",
       "      <td>shivam</td>\n",
       "      <td>42</td>\n",
       "      <td>bareily</td>\n",
       "    </tr>\n",
       "  </tbody>\n",
       "</table>\n",
       "</div>"
      ],
      "text/plain": [
       "     name  mark     city\n",
       "2   naman    45   kanpur\n",
       "3  shivam    42  bareily"
      ]
     },
     "execution_count": 7,
     "metadata": {},
     "output_type": "execute_result"
    }
   ],
   "source": [
    "df1.tail(2)"
   ]
  },
  {
   "cell_type": "markdown",
   "id": "2760a892",
   "metadata": {},
   "source": [
    "head(x) gives x rows of starting  and tail(x) gives x rows of end"
   ]
  },
  {
   "cell_type": "code",
   "execution_count": 8,
   "id": "5f9b3c67",
   "metadata": {},
   "outputs": [
    {
     "data": {
      "text/html": [
       "<div>\n",
       "<style scoped>\n",
       "    .dataframe tbody tr th:only-of-type {\n",
       "        vertical-align: middle;\n",
       "    }\n",
       "\n",
       "    .dataframe tbody tr th {\n",
       "        vertical-align: top;\n",
       "    }\n",
       "\n",
       "    .dataframe thead th {\n",
       "        text-align: right;\n",
       "    }\n",
       "</style>\n",
       "<table border=\"1\" class=\"dataframe\">\n",
       "  <thead>\n",
       "    <tr style=\"text-align: right;\">\n",
       "      <th></th>\n",
       "      <th>mark</th>\n",
       "    </tr>\n",
       "  </thead>\n",
       "  <tbody>\n",
       "    <tr>\n",
       "      <th>count</th>\n",
       "      <td>4.000000</td>\n",
       "    </tr>\n",
       "    <tr>\n",
       "      <th>mean</th>\n",
       "      <td>46.000000</td>\n",
       "    </tr>\n",
       "    <tr>\n",
       "      <th>std</th>\n",
       "      <td>12.247449</td>\n",
       "    </tr>\n",
       "    <tr>\n",
       "      <th>min</th>\n",
       "      <td>34.000000</td>\n",
       "    </tr>\n",
       "    <tr>\n",
       "      <th>25%</th>\n",
       "      <td>40.000000</td>\n",
       "    </tr>\n",
       "    <tr>\n",
       "      <th>50%</th>\n",
       "      <td>43.500000</td>\n",
       "    </tr>\n",
       "    <tr>\n",
       "      <th>75%</th>\n",
       "      <td>49.500000</td>\n",
       "    </tr>\n",
       "    <tr>\n",
       "      <th>max</th>\n",
       "      <td>63.000000</td>\n",
       "    </tr>\n",
       "  </tbody>\n",
       "</table>\n",
       "</div>"
      ],
      "text/plain": [
       "            mark\n",
       "count   4.000000\n",
       "mean   46.000000\n",
       "std    12.247449\n",
       "min    34.000000\n",
       "25%    40.000000\n",
       "50%    43.500000\n",
       "75%    49.500000\n",
       "max    63.000000"
      ]
     },
     "execution_count": 8,
     "metadata": {},
     "output_type": "execute_result"
    }
   ],
   "source": [
    "df1.describe()"
   ]
  },
  {
   "cell_type": "markdown",
   "id": "be58bf6f",
   "metadata": {},
   "source": [
    "gives the statical analysis of numeric columns"
   ]
  },
  {
   "cell_type": "markdown",
   "id": "5b65bf31",
   "metadata": {},
   "source": [
    "------------------------------------------------------------------------------"
   ]
  },
  {
   "cell_type": "markdown",
   "id": "f9d044de",
   "metadata": {},
   "source": [
    "reading the csv file"
   ]
  },
  {
   "cell_type": "code",
   "execution_count": 9,
   "id": "235d10af",
   "metadata": {},
   "outputs": [],
   "source": [
    "data = pd.read_csv('my_marks.csv')"
   ]
  },
  {
   "cell_type": "code",
   "execution_count": 10,
   "id": "108e94b2",
   "metadata": {},
   "outputs": [
    {
     "data": {
      "text/html": [
       "<div>\n",
       "<style scoped>\n",
       "    .dataframe tbody tr th:only-of-type {\n",
       "        vertical-align: middle;\n",
       "    }\n",
       "\n",
       "    .dataframe tbody tr th {\n",
       "        vertical-align: top;\n",
       "    }\n",
       "\n",
       "    .dataframe thead th {\n",
       "        text-align: right;\n",
       "    }\n",
       "</style>\n",
       "<table border=\"1\" class=\"dataframe\">\n",
       "  <thead>\n",
       "    <tr style=\"text-align: right;\">\n",
       "      <th></th>\n",
       "      <th>Unnamed: 0</th>\n",
       "      <th>name</th>\n",
       "      <th>mark</th>\n",
       "      <th>city</th>\n",
       "    </tr>\n",
       "  </thead>\n",
       "  <tbody>\n",
       "    <tr>\n",
       "      <th>0</th>\n",
       "      <td>0</td>\n",
       "      <td>vipul</td>\n",
       "      <td>63</td>\n",
       "      <td>mainprui</td>\n",
       "    </tr>\n",
       "    <tr>\n",
       "      <th>1</th>\n",
       "      <td>1</td>\n",
       "      <td>ankit</td>\n",
       "      <td>34</td>\n",
       "      <td>rampur</td>\n",
       "    </tr>\n",
       "    <tr>\n",
       "      <th>2</th>\n",
       "      <td>2</td>\n",
       "      <td>naman</td>\n",
       "      <td>45</td>\n",
       "      <td>kanpur</td>\n",
       "    </tr>\n",
       "    <tr>\n",
       "      <th>3</th>\n",
       "      <td>3</td>\n",
       "      <td>shivam</td>\n",
       "      <td>42</td>\n",
       "      <td>bareily</td>\n",
       "    </tr>\n",
       "  </tbody>\n",
       "</table>\n",
       "</div>"
      ],
      "text/plain": [
       "   Unnamed: 0    name  mark      city\n",
       "0           0   vipul    63  mainprui\n",
       "1           1   ankit    34    rampur\n",
       "2           2   naman    45    kanpur\n",
       "3           3  shivam    42   bareily"
      ]
     },
     "execution_count": 10,
     "metadata": {},
     "output_type": "execute_result"
    }
   ],
   "source": [
    "data"
   ]
  },
  {
   "cell_type": "markdown",
   "id": "eb02c8eb",
   "metadata": {},
   "source": [
    "Pandas is a library written in python which uses numpy for faster data analysis while numpy is written in c"
   ]
  },
  {
   "cell_type": "markdown",
   "id": "eff295c1",
   "metadata": {},
   "source": [
    "Pandas has two types of data stracture. 1-> series (one diemsional array with index) 2->DataFrame (2D data sheet)"
   ]
  },
  {
   "cell_type": "markdown",
   "id": "66ba3f0b",
   "metadata": {},
   "source": [
    "creating random data"
   ]
  },
  {
   "cell_type": "code",
   "execution_count": 11,
   "id": "553a898e",
   "metadata": {},
   "outputs": [],
   "source": [
    "ser = pd.Series(np.random.rand(34))"
   ]
  },
  {
   "cell_type": "code",
   "execution_count": 12,
   "id": "9cdb1462",
   "metadata": {},
   "outputs": [
    {
     "data": {
      "text/plain": [
       "pandas.core.series.Series"
      ]
     },
     "execution_count": 12,
     "metadata": {},
     "output_type": "execute_result"
    }
   ],
   "source": [
    "type(ser)"
   ]
  },
  {
   "cell_type": "code",
   "execution_count": 13,
   "id": "fdde511a",
   "metadata": {},
   "outputs": [],
   "source": [
    "newdf = pd.DataFrame(np.random.rand(200,6),index=np.arange(200))"
   ]
  },
  {
   "cell_type": "code",
   "execution_count": 14,
   "id": "a6090db1",
   "metadata": {},
   "outputs": [
    {
     "data": {
      "text/plain": [
       "pandas.core.frame.DataFrame"
      ]
     },
     "execution_count": 14,
     "metadata": {},
     "output_type": "execute_result"
    }
   ],
   "source": [
    "type(newdf)"
   ]
  },
  {
   "cell_type": "code",
   "execution_count": 15,
   "id": "ee34852c",
   "metadata": {},
   "outputs": [
    {
     "data": {
      "text/plain": [
       "0    float64\n",
       "1    float64\n",
       "2    float64\n",
       "3    float64\n",
       "4    float64\n",
       "5    float64\n",
       "dtype: object"
      ]
     },
     "execution_count": 15,
     "metadata": {},
     "output_type": "execute_result"
    }
   ],
   "source": [
    "newdf.dtypes"
   ]
  },
  {
   "cell_type": "code",
   "execution_count": 16,
   "id": "f2967d0d",
   "metadata": {},
   "outputs": [],
   "source": [
    "newarray = newdf.to_numpy()"
   ]
  },
  {
   "cell_type": "code",
   "execution_count": 17,
   "id": "7becd3af",
   "metadata": {},
   "outputs": [
    {
     "data": {
      "text/plain": [
       "array([[0.02963174, 0.25244568, 0.19397106, 0.13404608, 0.9008534 ,\n",
       "        0.17146253],\n",
       "       [0.11587259, 0.71647326, 0.31360163, 0.71880372, 0.99672336,\n",
       "        0.16714549],\n",
       "       [0.31390098, 0.37114247, 0.04406112, 0.28388465, 0.90614091,\n",
       "        0.70909566],\n",
       "       ...,\n",
       "       [0.70761665, 0.82184188, 0.09382705, 0.57106139, 0.44573857,\n",
       "        0.60789907],\n",
       "       [0.09815374, 0.4515138 , 0.60208339, 0.29440962, 0.66161294,\n",
       "        0.6922661 ],\n",
       "       [0.25132862, 0.81834102, 0.04150856, 0.57259944, 0.67484866,\n",
       "        0.65131325]])"
      ]
     },
     "execution_count": 17,
     "metadata": {},
     "output_type": "execute_result"
    }
   ],
   "source": [
    "newarray"
   ]
  },
  {
   "cell_type": "code",
   "execution_count": 18,
   "id": "40744eb4",
   "metadata": {},
   "outputs": [
    {
     "data": {
      "text/html": [
       "<div>\n",
       "<style scoped>\n",
       "    .dataframe tbody tr th:only-of-type {\n",
       "        vertical-align: middle;\n",
       "    }\n",
       "\n",
       "    .dataframe tbody tr th {\n",
       "        vertical-align: top;\n",
       "    }\n",
       "\n",
       "    .dataframe thead th {\n",
       "        text-align: right;\n",
       "    }\n",
       "</style>\n",
       "<table border=\"1\" class=\"dataframe\">\n",
       "  <thead>\n",
       "    <tr style=\"text-align: right;\">\n",
       "      <th></th>\n",
       "      <th>0</th>\n",
       "      <th>1</th>\n",
       "      <th>2</th>\n",
       "      <th>3</th>\n",
       "      <th>4</th>\n",
       "      <th>5</th>\n",
       "      <th>6</th>\n",
       "      <th>7</th>\n",
       "      <th>8</th>\n",
       "      <th>9</th>\n",
       "      <th>...</th>\n",
       "      <th>190</th>\n",
       "      <th>191</th>\n",
       "      <th>192</th>\n",
       "      <th>193</th>\n",
       "      <th>194</th>\n",
       "      <th>195</th>\n",
       "      <th>196</th>\n",
       "      <th>197</th>\n",
       "      <th>198</th>\n",
       "      <th>199</th>\n",
       "    </tr>\n",
       "  </thead>\n",
       "  <tbody>\n",
       "    <tr>\n",
       "      <th>0</th>\n",
       "      <td>0.029632</td>\n",
       "      <td>0.115873</td>\n",
       "      <td>0.313901</td>\n",
       "      <td>0.173606</td>\n",
       "      <td>0.010015</td>\n",
       "      <td>0.706223</td>\n",
       "      <td>0.540923</td>\n",
       "      <td>0.281827</td>\n",
       "      <td>0.159059</td>\n",
       "      <td>0.350555</td>\n",
       "      <td>...</td>\n",
       "      <td>0.815041</td>\n",
       "      <td>0.637800</td>\n",
       "      <td>0.363884</td>\n",
       "      <td>0.230567</td>\n",
       "      <td>0.513475</td>\n",
       "      <td>0.840510</td>\n",
       "      <td>0.572587</td>\n",
       "      <td>0.707617</td>\n",
       "      <td>0.098154</td>\n",
       "      <td>0.251329</td>\n",
       "    </tr>\n",
       "    <tr>\n",
       "      <th>1</th>\n",
       "      <td>0.252446</td>\n",
       "      <td>0.716473</td>\n",
       "      <td>0.371142</td>\n",
       "      <td>0.077227</td>\n",
       "      <td>0.453662</td>\n",
       "      <td>0.734071</td>\n",
       "      <td>0.276749</td>\n",
       "      <td>0.990167</td>\n",
       "      <td>0.946768</td>\n",
       "      <td>0.713846</td>\n",
       "      <td>...</td>\n",
       "      <td>0.184737</td>\n",
       "      <td>0.471196</td>\n",
       "      <td>0.880213</td>\n",
       "      <td>0.279175</td>\n",
       "      <td>0.929391</td>\n",
       "      <td>0.844503</td>\n",
       "      <td>0.806236</td>\n",
       "      <td>0.821842</td>\n",
       "      <td>0.451514</td>\n",
       "      <td>0.818341</td>\n",
       "    </tr>\n",
       "    <tr>\n",
       "      <th>2</th>\n",
       "      <td>0.193971</td>\n",
       "      <td>0.313602</td>\n",
       "      <td>0.044061</td>\n",
       "      <td>0.421704</td>\n",
       "      <td>0.068844</td>\n",
       "      <td>0.400351</td>\n",
       "      <td>0.674476</td>\n",
       "      <td>0.981962</td>\n",
       "      <td>0.350824</td>\n",
       "      <td>0.503251</td>\n",
       "      <td>...</td>\n",
       "      <td>0.936159</td>\n",
       "      <td>0.014450</td>\n",
       "      <td>0.936894</td>\n",
       "      <td>0.537613</td>\n",
       "      <td>0.011399</td>\n",
       "      <td>0.471896</td>\n",
       "      <td>0.793550</td>\n",
       "      <td>0.093827</td>\n",
       "      <td>0.602083</td>\n",
       "      <td>0.041509</td>\n",
       "    </tr>\n",
       "    <tr>\n",
       "      <th>3</th>\n",
       "      <td>0.134046</td>\n",
       "      <td>0.718804</td>\n",
       "      <td>0.283885</td>\n",
       "      <td>0.597297</td>\n",
       "      <td>0.998491</td>\n",
       "      <td>0.444395</td>\n",
       "      <td>0.634950</td>\n",
       "      <td>0.180517</td>\n",
       "      <td>0.886590</td>\n",
       "      <td>0.618567</td>\n",
       "      <td>...</td>\n",
       "      <td>0.499318</td>\n",
       "      <td>0.480331</td>\n",
       "      <td>0.824745</td>\n",
       "      <td>0.677493</td>\n",
       "      <td>0.703232</td>\n",
       "      <td>0.998352</td>\n",
       "      <td>0.072354</td>\n",
       "      <td>0.571061</td>\n",
       "      <td>0.294410</td>\n",
       "      <td>0.572599</td>\n",
       "    </tr>\n",
       "    <tr>\n",
       "      <th>4</th>\n",
       "      <td>0.900853</td>\n",
       "      <td>0.996723</td>\n",
       "      <td>0.906141</td>\n",
       "      <td>0.231809</td>\n",
       "      <td>0.801819</td>\n",
       "      <td>0.272849</td>\n",
       "      <td>0.858997</td>\n",
       "      <td>0.755035</td>\n",
       "      <td>0.396968</td>\n",
       "      <td>0.359653</td>\n",
       "      <td>...</td>\n",
       "      <td>0.245551</td>\n",
       "      <td>0.789896</td>\n",
       "      <td>0.322948</td>\n",
       "      <td>0.500598</td>\n",
       "      <td>0.747117</td>\n",
       "      <td>0.610578</td>\n",
       "      <td>0.241396</td>\n",
       "      <td>0.445739</td>\n",
       "      <td>0.661613</td>\n",
       "      <td>0.674849</td>\n",
       "    </tr>\n",
       "    <tr>\n",
       "      <th>5</th>\n",
       "      <td>0.171463</td>\n",
       "      <td>0.167145</td>\n",
       "      <td>0.709096</td>\n",
       "      <td>0.785496</td>\n",
       "      <td>0.585366</td>\n",
       "      <td>0.727112</td>\n",
       "      <td>0.677807</td>\n",
       "      <td>0.526039</td>\n",
       "      <td>0.787793</td>\n",
       "      <td>0.052653</td>\n",
       "      <td>...</td>\n",
       "      <td>0.493484</td>\n",
       "      <td>0.529254</td>\n",
       "      <td>0.070375</td>\n",
       "      <td>0.565154</td>\n",
       "      <td>0.403931</td>\n",
       "      <td>0.623334</td>\n",
       "      <td>0.787685</td>\n",
       "      <td>0.607899</td>\n",
       "      <td>0.692266</td>\n",
       "      <td>0.651313</td>\n",
       "    </tr>\n",
       "  </tbody>\n",
       "</table>\n",
       "<p>6 rows × 200 columns</p>\n",
       "</div>"
      ],
      "text/plain": [
       "        0         1         2         3         4         5         6     \n",
       "0  0.029632  0.115873  0.313901  0.173606  0.010015  0.706223  0.540923  \\\n",
       "1  0.252446  0.716473  0.371142  0.077227  0.453662  0.734071  0.276749   \n",
       "2  0.193971  0.313602  0.044061  0.421704  0.068844  0.400351  0.674476   \n",
       "3  0.134046  0.718804  0.283885  0.597297  0.998491  0.444395  0.634950   \n",
       "4  0.900853  0.996723  0.906141  0.231809  0.801819  0.272849  0.858997   \n",
       "5  0.171463  0.167145  0.709096  0.785496  0.585366  0.727112  0.677807   \n",
       "\n",
       "        7         8         9    ...       190       191       192       193   \n",
       "0  0.281827  0.159059  0.350555  ...  0.815041  0.637800  0.363884  0.230567  \\\n",
       "1  0.990167  0.946768  0.713846  ...  0.184737  0.471196  0.880213  0.279175   \n",
       "2  0.981962  0.350824  0.503251  ...  0.936159  0.014450  0.936894  0.537613   \n",
       "3  0.180517  0.886590  0.618567  ...  0.499318  0.480331  0.824745  0.677493   \n",
       "4  0.755035  0.396968  0.359653  ...  0.245551  0.789896  0.322948  0.500598   \n",
       "5  0.526039  0.787793  0.052653  ...  0.493484  0.529254  0.070375  0.565154   \n",
       "\n",
       "        194       195       196       197       198       199  \n",
       "0  0.513475  0.840510  0.572587  0.707617  0.098154  0.251329  \n",
       "1  0.929391  0.844503  0.806236  0.821842  0.451514  0.818341  \n",
       "2  0.011399  0.471896  0.793550  0.093827  0.602083  0.041509  \n",
       "3  0.703232  0.998352  0.072354  0.571061  0.294410  0.572599  \n",
       "4  0.747117  0.610578  0.241396  0.445739  0.661613  0.674849  \n",
       "5  0.403931  0.623334  0.787685  0.607899  0.692266  0.651313  \n",
       "\n",
       "[6 rows x 200 columns]"
      ]
     },
     "execution_count": 18,
     "metadata": {},
     "output_type": "execute_result"
    }
   ],
   "source": [
    "newdf.T"
   ]
  },
  {
   "cell_type": "markdown",
   "id": "7b768a6c",
   "metadata": {},
   "source": [
    "T gives the tranpose of dataframe"
   ]
  },
  {
   "cell_type": "code",
   "execution_count": 19,
   "id": "ba405ace",
   "metadata": {},
   "outputs": [
    {
     "data": {
      "text/html": [
       "<div>\n",
       "<style scoped>\n",
       "    .dataframe tbody tr th:only-of-type {\n",
       "        vertical-align: middle;\n",
       "    }\n",
       "\n",
       "    .dataframe tbody tr th {\n",
       "        vertical-align: top;\n",
       "    }\n",
       "\n",
       "    .dataframe thead th {\n",
       "        text-align: right;\n",
       "    }\n",
       "</style>\n",
       "<table border=\"1\" class=\"dataframe\">\n",
       "  <thead>\n",
       "    <tr style=\"text-align: right;\">\n",
       "      <th></th>\n",
       "      <th>0</th>\n",
       "      <th>1</th>\n",
       "      <th>2</th>\n",
       "      <th>3</th>\n",
       "      <th>4</th>\n",
       "      <th>5</th>\n",
       "    </tr>\n",
       "  </thead>\n",
       "  <tbody>\n",
       "    <tr>\n",
       "      <th>199</th>\n",
       "      <td>0.251329</td>\n",
       "      <td>0.818341</td>\n",
       "      <td>0.041509</td>\n",
       "      <td>0.572599</td>\n",
       "      <td>0.674849</td>\n",
       "      <td>0.651313</td>\n",
       "    </tr>\n",
       "    <tr>\n",
       "      <th>198</th>\n",
       "      <td>0.098154</td>\n",
       "      <td>0.451514</td>\n",
       "      <td>0.602083</td>\n",
       "      <td>0.294410</td>\n",
       "      <td>0.661613</td>\n",
       "      <td>0.692266</td>\n",
       "    </tr>\n",
       "    <tr>\n",
       "      <th>197</th>\n",
       "      <td>0.707617</td>\n",
       "      <td>0.821842</td>\n",
       "      <td>0.093827</td>\n",
       "      <td>0.571061</td>\n",
       "      <td>0.445739</td>\n",
       "      <td>0.607899</td>\n",
       "    </tr>\n",
       "    <tr>\n",
       "      <th>196</th>\n",
       "      <td>0.572587</td>\n",
       "      <td>0.806236</td>\n",
       "      <td>0.793550</td>\n",
       "      <td>0.072354</td>\n",
       "      <td>0.241396</td>\n",
       "      <td>0.787685</td>\n",
       "    </tr>\n",
       "    <tr>\n",
       "      <th>195</th>\n",
       "      <td>0.840510</td>\n",
       "      <td>0.844503</td>\n",
       "      <td>0.471896</td>\n",
       "      <td>0.998352</td>\n",
       "      <td>0.610578</td>\n",
       "      <td>0.623334</td>\n",
       "    </tr>\n",
       "  </tbody>\n",
       "</table>\n",
       "</div>"
      ],
      "text/plain": [
       "            0         1         2         3         4         5\n",
       "199  0.251329  0.818341  0.041509  0.572599  0.674849  0.651313\n",
       "198  0.098154  0.451514  0.602083  0.294410  0.661613  0.692266\n",
       "197  0.707617  0.821842  0.093827  0.571061  0.445739  0.607899\n",
       "196  0.572587  0.806236  0.793550  0.072354  0.241396  0.787685\n",
       "195  0.840510  0.844503  0.471896  0.998352  0.610578  0.623334"
      ]
     },
     "execution_count": 19,
     "metadata": {},
     "output_type": "execute_result"
    }
   ],
   "source": [
    "newdf.sort_index(axis=0,ascending=False).head()"
   ]
  },
  {
   "cell_type": "markdown",
   "id": "9360cd1d",
   "metadata": {},
   "source": [
    "axis=0 for rows and axis=1 from colum"
   ]
  },
  {
   "cell_type": "code",
   "execution_count": 20,
   "id": "329241fe",
   "metadata": {},
   "outputs": [
    {
     "data": {
      "text/html": [
       "<div>\n",
       "<style scoped>\n",
       "    .dataframe tbody tr th:only-of-type {\n",
       "        vertical-align: middle;\n",
       "    }\n",
       "\n",
       "    .dataframe tbody tr th {\n",
       "        vertical-align: top;\n",
       "    }\n",
       "\n",
       "    .dataframe thead th {\n",
       "        text-align: right;\n",
       "    }\n",
       "</style>\n",
       "<table border=\"1\" class=\"dataframe\">\n",
       "  <thead>\n",
       "    <tr style=\"text-align: right;\">\n",
       "      <th></th>\n",
       "      <th>5</th>\n",
       "      <th>4</th>\n",
       "      <th>3</th>\n",
       "      <th>2</th>\n",
       "      <th>1</th>\n",
       "      <th>0</th>\n",
       "    </tr>\n",
       "  </thead>\n",
       "  <tbody>\n",
       "    <tr>\n",
       "      <th>0</th>\n",
       "      <td>0.171463</td>\n",
       "      <td>0.900853</td>\n",
       "      <td>0.134046</td>\n",
       "      <td>0.193971</td>\n",
       "      <td>0.252446</td>\n",
       "      <td>0.029632</td>\n",
       "    </tr>\n",
       "    <tr>\n",
       "      <th>1</th>\n",
       "      <td>0.167145</td>\n",
       "      <td>0.996723</td>\n",
       "      <td>0.718804</td>\n",
       "      <td>0.313602</td>\n",
       "      <td>0.716473</td>\n",
       "      <td>0.115873</td>\n",
       "    </tr>\n",
       "    <tr>\n",
       "      <th>2</th>\n",
       "      <td>0.709096</td>\n",
       "      <td>0.906141</td>\n",
       "      <td>0.283885</td>\n",
       "      <td>0.044061</td>\n",
       "      <td>0.371142</td>\n",
       "      <td>0.313901</td>\n",
       "    </tr>\n",
       "    <tr>\n",
       "      <th>3</th>\n",
       "      <td>0.785496</td>\n",
       "      <td>0.231809</td>\n",
       "      <td>0.597297</td>\n",
       "      <td>0.421704</td>\n",
       "      <td>0.077227</td>\n",
       "      <td>0.173606</td>\n",
       "    </tr>\n",
       "    <tr>\n",
       "      <th>4</th>\n",
       "      <td>0.585366</td>\n",
       "      <td>0.801819</td>\n",
       "      <td>0.998491</td>\n",
       "      <td>0.068844</td>\n",
       "      <td>0.453662</td>\n",
       "      <td>0.010015</td>\n",
       "    </tr>\n",
       "  </tbody>\n",
       "</table>\n",
       "</div>"
      ],
      "text/plain": [
       "          5         4         3         2         1         0\n",
       "0  0.171463  0.900853  0.134046  0.193971  0.252446  0.029632\n",
       "1  0.167145  0.996723  0.718804  0.313602  0.716473  0.115873\n",
       "2  0.709096  0.906141  0.283885  0.044061  0.371142  0.313901\n",
       "3  0.785496  0.231809  0.597297  0.421704  0.077227  0.173606\n",
       "4  0.585366  0.801819  0.998491  0.068844  0.453662  0.010015"
      ]
     },
     "execution_count": 20,
     "metadata": {},
     "output_type": "execute_result"
    }
   ],
   "source": [
    "newdf.sort_index(axis=1,ascending=False).head()"
   ]
  },
  {
   "cell_type": "code",
   "execution_count": 21,
   "id": "713700fa",
   "metadata": {},
   "outputs": [
    {
     "data": {
      "text/plain": [
       "pandas.core.series.Series"
      ]
     },
     "execution_count": 21,
     "metadata": {},
     "output_type": "execute_result"
    }
   ],
   "source": [
    "type(newdf[0])"
   ]
  },
  {
   "cell_type": "markdown",
   "id": "2ab217cb",
   "metadata": {},
   "source": [
    "DataFrames are the combination of Series data type"
   ]
  },
  {
   "cell_type": "code",
   "execution_count": 22,
   "id": "7ee83ee5",
   "metadata": {},
   "outputs": [],
   "source": [
    "newdf1 = newdf"
   ]
  },
  {
   "cell_type": "markdown",
   "id": "392eac3f",
   "metadata": {},
   "source": [
    "it makes only view i.e both are points to same memory lcations. on change in newdf1 reflects to newdf also"
   ]
  },
  {
   "cell_type": "code",
   "execution_count": 23,
   "id": "91dc2862",
   "metadata": {},
   "outputs": [],
   "source": [
    "newdf1 = newdf.copy()"
   ]
  },
  {
   "cell_type": "markdown",
   "id": "ca004b49",
   "metadata": {},
   "source": [
    "it makes the copy"
   ]
  },
  {
   "cell_type": "code",
   "execution_count": 24,
   "id": "83da01c9",
   "metadata": {},
   "outputs": [],
   "source": [
    "newdf1.loc[0,0]=0.0343333"
   ]
  },
  {
   "cell_type": "markdown",
   "id": "0b181210",
   "metadata": {},
   "source": [
    "update any value with loc[row,column]"
   ]
  },
  {
   "cell_type": "code",
   "execution_count": 25,
   "id": "5dc36d88",
   "metadata": {},
   "outputs": [
    {
     "data": {
      "text/html": [
       "<div>\n",
       "<style scoped>\n",
       "    .dataframe tbody tr th:only-of-type {\n",
       "        vertical-align: middle;\n",
       "    }\n",
       "\n",
       "    .dataframe tbody tr th {\n",
       "        vertical-align: top;\n",
       "    }\n",
       "\n",
       "    .dataframe thead th {\n",
       "        text-align: right;\n",
       "    }\n",
       "</style>\n",
       "<table border=\"1\" class=\"dataframe\">\n",
       "  <thead>\n",
       "    <tr style=\"text-align: right;\">\n",
       "      <th></th>\n",
       "      <th>0</th>\n",
       "      <th>1</th>\n",
       "      <th>2</th>\n",
       "      <th>3</th>\n",
       "      <th>4</th>\n",
       "      <th>5</th>\n",
       "    </tr>\n",
       "  </thead>\n",
       "  <tbody>\n",
       "    <tr>\n",
       "      <th>0</th>\n",
       "      <td>0.034333</td>\n",
       "      <td>0.252446</td>\n",
       "      <td>0.193971</td>\n",
       "      <td>0.134046</td>\n",
       "      <td>0.900853</td>\n",
       "      <td>0.171463</td>\n",
       "    </tr>\n",
       "    <tr>\n",
       "      <th>1</th>\n",
       "      <td>0.115873</td>\n",
       "      <td>0.716473</td>\n",
       "      <td>0.313602</td>\n",
       "      <td>0.718804</td>\n",
       "      <td>0.996723</td>\n",
       "      <td>0.167145</td>\n",
       "    </tr>\n",
       "    <tr>\n",
       "      <th>2</th>\n",
       "      <td>0.313901</td>\n",
       "      <td>0.371142</td>\n",
       "      <td>0.044061</td>\n",
       "      <td>0.283885</td>\n",
       "      <td>0.906141</td>\n",
       "      <td>0.709096</td>\n",
       "    </tr>\n",
       "    <tr>\n",
       "      <th>3</th>\n",
       "      <td>0.173606</td>\n",
       "      <td>0.077227</td>\n",
       "      <td>0.421704</td>\n",
       "      <td>0.597297</td>\n",
       "      <td>0.231809</td>\n",
       "      <td>0.785496</td>\n",
       "    </tr>\n",
       "    <tr>\n",
       "      <th>4</th>\n",
       "      <td>0.010015</td>\n",
       "      <td>0.453662</td>\n",
       "      <td>0.068844</td>\n",
       "      <td>0.998491</td>\n",
       "      <td>0.801819</td>\n",
       "      <td>0.585366</td>\n",
       "    </tr>\n",
       "  </tbody>\n",
       "</table>\n",
       "</div>"
      ],
      "text/plain": [
       "          0         1         2         3         4         5\n",
       "0  0.034333  0.252446  0.193971  0.134046  0.900853  0.171463\n",
       "1  0.115873  0.716473  0.313602  0.718804  0.996723  0.167145\n",
       "2  0.313901  0.371142  0.044061  0.283885  0.906141  0.709096\n",
       "3  0.173606  0.077227  0.421704  0.597297  0.231809  0.785496\n",
       "4  0.010015  0.453662  0.068844  0.998491  0.801819  0.585366"
      ]
     },
     "execution_count": 25,
     "metadata": {},
     "output_type": "execute_result"
    }
   ],
   "source": [
    "newdf1.head()"
   ]
  },
  {
   "cell_type": "markdown",
   "id": "5c792003",
   "metadata": {},
   "source": [
    "newdf1.columns = list(\"ABCDEF\")"
   ]
  },
  {
   "cell_type": "code",
   "execution_count": 26,
   "id": "e6747b43",
   "metadata": {},
   "outputs": [],
   "source": [
    "newdf1.columns = list(\"ABCDEF\")"
   ]
  },
  {
   "cell_type": "code",
   "execution_count": 27,
   "id": "58aba0c2",
   "metadata": {},
   "outputs": [
    {
     "data": {
      "text/html": [
       "<div>\n",
       "<style scoped>\n",
       "    .dataframe tbody tr th:only-of-type {\n",
       "        vertical-align: middle;\n",
       "    }\n",
       "\n",
       "    .dataframe tbody tr th {\n",
       "        vertical-align: top;\n",
       "    }\n",
       "\n",
       "    .dataframe thead th {\n",
       "        text-align: right;\n",
       "    }\n",
       "</style>\n",
       "<table border=\"1\" class=\"dataframe\">\n",
       "  <thead>\n",
       "    <tr style=\"text-align: right;\">\n",
       "      <th></th>\n",
       "      <th>A</th>\n",
       "      <th>B</th>\n",
       "      <th>C</th>\n",
       "      <th>D</th>\n",
       "      <th>E</th>\n",
       "      <th>F</th>\n",
       "    </tr>\n",
       "  </thead>\n",
       "  <tbody>\n",
       "    <tr>\n",
       "      <th>0</th>\n",
       "      <td>0.034333</td>\n",
       "      <td>0.252446</td>\n",
       "      <td>0.193971</td>\n",
       "      <td>0.134046</td>\n",
       "      <td>0.900853</td>\n",
       "      <td>0.171463</td>\n",
       "    </tr>\n",
       "    <tr>\n",
       "      <th>1</th>\n",
       "      <td>0.115873</td>\n",
       "      <td>0.716473</td>\n",
       "      <td>0.313602</td>\n",
       "      <td>0.718804</td>\n",
       "      <td>0.996723</td>\n",
       "      <td>0.167145</td>\n",
       "    </tr>\n",
       "    <tr>\n",
       "      <th>2</th>\n",
       "      <td>0.313901</td>\n",
       "      <td>0.371142</td>\n",
       "      <td>0.044061</td>\n",
       "      <td>0.283885</td>\n",
       "      <td>0.906141</td>\n",
       "      <td>0.709096</td>\n",
       "    </tr>\n",
       "    <tr>\n",
       "      <th>3</th>\n",
       "      <td>0.173606</td>\n",
       "      <td>0.077227</td>\n",
       "      <td>0.421704</td>\n",
       "      <td>0.597297</td>\n",
       "      <td>0.231809</td>\n",
       "      <td>0.785496</td>\n",
       "    </tr>\n",
       "    <tr>\n",
       "      <th>4</th>\n",
       "      <td>0.010015</td>\n",
       "      <td>0.453662</td>\n",
       "      <td>0.068844</td>\n",
       "      <td>0.998491</td>\n",
       "      <td>0.801819</td>\n",
       "      <td>0.585366</td>\n",
       "    </tr>\n",
       "  </tbody>\n",
       "</table>\n",
       "</div>"
      ],
      "text/plain": [
       "          A         B         C         D         E         F\n",
       "0  0.034333  0.252446  0.193971  0.134046  0.900853  0.171463\n",
       "1  0.115873  0.716473  0.313602  0.718804  0.996723  0.167145\n",
       "2  0.313901  0.371142  0.044061  0.283885  0.906141  0.709096\n",
       "3  0.173606  0.077227  0.421704  0.597297  0.231809  0.785496\n",
       "4  0.010015  0.453662  0.068844  0.998491  0.801819  0.585366"
      ]
     },
     "execution_count": 27,
     "metadata": {},
     "output_type": "execute_result"
    }
   ],
   "source": [
    "newdf1.head()"
   ]
  },
  {
   "cell_type": "code",
   "execution_count": 28,
   "id": "e2d30125",
   "metadata": {},
   "outputs": [],
   "source": [
    "newdf1=newdf1.drop('F',axis=1)"
   ]
  },
  {
   "cell_type": "code",
   "execution_count": 29,
   "id": "742ea852",
   "metadata": {},
   "outputs": [
    {
     "data": {
      "text/html": [
       "<div>\n",
       "<style scoped>\n",
       "    .dataframe tbody tr th:only-of-type {\n",
       "        vertical-align: middle;\n",
       "    }\n",
       "\n",
       "    .dataframe tbody tr th {\n",
       "        vertical-align: top;\n",
       "    }\n",
       "\n",
       "    .dataframe thead th {\n",
       "        text-align: right;\n",
       "    }\n",
       "</style>\n",
       "<table border=\"1\" class=\"dataframe\">\n",
       "  <thead>\n",
       "    <tr style=\"text-align: right;\">\n",
       "      <th></th>\n",
       "      <th>A</th>\n",
       "      <th>B</th>\n",
       "      <th>C</th>\n",
       "      <th>D</th>\n",
       "      <th>E</th>\n",
       "    </tr>\n",
       "  </thead>\n",
       "  <tbody>\n",
       "    <tr>\n",
       "      <th>0</th>\n",
       "      <td>0.034333</td>\n",
       "      <td>0.252446</td>\n",
       "      <td>0.193971</td>\n",
       "      <td>0.134046</td>\n",
       "      <td>0.900853</td>\n",
       "    </tr>\n",
       "    <tr>\n",
       "      <th>1</th>\n",
       "      <td>0.115873</td>\n",
       "      <td>0.716473</td>\n",
       "      <td>0.313602</td>\n",
       "      <td>0.718804</td>\n",
       "      <td>0.996723</td>\n",
       "    </tr>\n",
       "    <tr>\n",
       "      <th>2</th>\n",
       "      <td>0.313901</td>\n",
       "      <td>0.371142</td>\n",
       "      <td>0.044061</td>\n",
       "      <td>0.283885</td>\n",
       "      <td>0.906141</td>\n",
       "    </tr>\n",
       "    <tr>\n",
       "      <th>3</th>\n",
       "      <td>0.173606</td>\n",
       "      <td>0.077227</td>\n",
       "      <td>0.421704</td>\n",
       "      <td>0.597297</td>\n",
       "      <td>0.231809</td>\n",
       "    </tr>\n",
       "    <tr>\n",
       "      <th>4</th>\n",
       "      <td>0.010015</td>\n",
       "      <td>0.453662</td>\n",
       "      <td>0.068844</td>\n",
       "      <td>0.998491</td>\n",
       "      <td>0.801819</td>\n",
       "    </tr>\n",
       "  </tbody>\n",
       "</table>\n",
       "</div>"
      ],
      "text/plain": [
       "          A         B         C         D         E\n",
       "0  0.034333  0.252446  0.193971  0.134046  0.900853\n",
       "1  0.115873  0.716473  0.313602  0.718804  0.996723\n",
       "2  0.313901  0.371142  0.044061  0.283885  0.906141\n",
       "3  0.173606  0.077227  0.421704  0.597297  0.231809\n",
       "4  0.010015  0.453662  0.068844  0.998491  0.801819"
      ]
     },
     "execution_count": 29,
     "metadata": {},
     "output_type": "execute_result"
    }
   ],
   "source": [
    "newdf1.head()"
   ]
  },
  {
   "cell_type": "code",
   "execution_count": 30,
   "id": "38029f6f",
   "metadata": {},
   "outputs": [
    {
     "data": {
      "text/html": [
       "<div>\n",
       "<style scoped>\n",
       "    .dataframe tbody tr th:only-of-type {\n",
       "        vertical-align: middle;\n",
       "    }\n",
       "\n",
       "    .dataframe tbody tr th {\n",
       "        vertical-align: top;\n",
       "    }\n",
       "\n",
       "    .dataframe thead th {\n",
       "        text-align: right;\n",
       "    }\n",
       "</style>\n",
       "<table border=\"1\" class=\"dataframe\">\n",
       "  <thead>\n",
       "    <tr style=\"text-align: right;\">\n",
       "      <th></th>\n",
       "      <th>A</th>\n",
       "      <th>B</th>\n",
       "      <th>C</th>\n",
       "      <th>D</th>\n",
       "      <th>E</th>\n",
       "    </tr>\n",
       "  </thead>\n",
       "  <tbody>\n",
       "    <tr>\n",
       "      <th>1</th>\n",
       "      <td>0.115873</td>\n",
       "      <td>0.716473</td>\n",
       "      <td>0.313602</td>\n",
       "      <td>0.718804</td>\n",
       "      <td>0.996723</td>\n",
       "    </tr>\n",
       "    <tr>\n",
       "      <th>7</th>\n",
       "      <td>0.281827</td>\n",
       "      <td>0.990167</td>\n",
       "      <td>0.981962</td>\n",
       "      <td>0.180517</td>\n",
       "      <td>0.755035</td>\n",
       "    </tr>\n",
       "    <tr>\n",
       "      <th>8</th>\n",
       "      <td>0.159059</td>\n",
       "      <td>0.946768</td>\n",
       "      <td>0.350824</td>\n",
       "      <td>0.886590</td>\n",
       "      <td>0.396968</td>\n",
       "    </tr>\n",
       "    <tr>\n",
       "      <th>9</th>\n",
       "      <td>0.350555</td>\n",
       "      <td>0.713846</td>\n",
       "      <td>0.503251</td>\n",
       "      <td>0.618567</td>\n",
       "      <td>0.359653</td>\n",
       "    </tr>\n",
       "    <tr>\n",
       "      <th>14</th>\n",
       "      <td>0.005509</td>\n",
       "      <td>0.672792</td>\n",
       "      <td>0.842656</td>\n",
       "      <td>0.513946</td>\n",
       "      <td>0.708062</td>\n",
       "    </tr>\n",
       "    <tr>\n",
       "      <th>18</th>\n",
       "      <td>0.251752</td>\n",
       "      <td>0.719281</td>\n",
       "      <td>0.805761</td>\n",
       "      <td>0.322393</td>\n",
       "      <td>0.343046</td>\n",
       "    </tr>\n",
       "    <tr>\n",
       "      <th>20</th>\n",
       "      <td>0.449801</td>\n",
       "      <td>0.637351</td>\n",
       "      <td>0.703766</td>\n",
       "      <td>0.720995</td>\n",
       "      <td>0.579840</td>\n",
       "    </tr>\n",
       "    <tr>\n",
       "      <th>22</th>\n",
       "      <td>0.393107</td>\n",
       "      <td>0.799724</td>\n",
       "      <td>0.833240</td>\n",
       "      <td>0.714663</td>\n",
       "      <td>0.690946</td>\n",
       "    </tr>\n",
       "    <tr>\n",
       "      <th>28</th>\n",
       "      <td>0.339011</td>\n",
       "      <td>0.739059</td>\n",
       "      <td>0.050555</td>\n",
       "      <td>0.600744</td>\n",
       "      <td>0.496720</td>\n",
       "    </tr>\n",
       "    <tr>\n",
       "      <th>29</th>\n",
       "      <td>0.231772</td>\n",
       "      <td>0.599668</td>\n",
       "      <td>0.154051</td>\n",
       "      <td>0.922927</td>\n",
       "      <td>0.674544</td>\n",
       "    </tr>\n",
       "  </tbody>\n",
       "</table>\n",
       "</div>"
      ],
      "text/plain": [
       "           A         B         C         D         E\n",
       "1   0.115873  0.716473  0.313602  0.718804  0.996723\n",
       "7   0.281827  0.990167  0.981962  0.180517  0.755035\n",
       "8   0.159059  0.946768  0.350824  0.886590  0.396968\n",
       "9   0.350555  0.713846  0.503251  0.618567  0.359653\n",
       "14  0.005509  0.672792  0.842656  0.513946  0.708062\n",
       "18  0.251752  0.719281  0.805761  0.322393  0.343046\n",
       "20  0.449801  0.637351  0.703766  0.720995  0.579840\n",
       "22  0.393107  0.799724  0.833240  0.714663  0.690946\n",
       "28  0.339011  0.739059  0.050555  0.600744  0.496720\n",
       "29  0.231772  0.599668  0.154051  0.922927  0.674544"
      ]
     },
     "execution_count": 30,
     "metadata": {},
     "output_type": "execute_result"
    }
   ],
   "source": [
    "newdf1.loc[(newdf1['A']<0.5) & (newdf1['B']>0.5)].head(10)"
   ]
  },
  {
   "cell_type": "markdown",
   "id": "e48df75c",
   "metadata": {},
   "source": [
    "for indexinf use iloc instead of loc"
   ]
  },
  {
   "cell_type": "code",
   "execution_count": 31,
   "id": "7c0936e9",
   "metadata": {},
   "outputs": [],
   "source": [
    "newdf1.drop([1,3,5],axis=0,inplace=True)"
   ]
  },
  {
   "cell_type": "code",
   "execution_count": 32,
   "id": "dfbd4702",
   "metadata": {},
   "outputs": [
    {
     "data": {
      "text/html": [
       "<div>\n",
       "<style scoped>\n",
       "    .dataframe tbody tr th:only-of-type {\n",
       "        vertical-align: middle;\n",
       "    }\n",
       "\n",
       "    .dataframe tbody tr th {\n",
       "        vertical-align: top;\n",
       "    }\n",
       "\n",
       "    .dataframe thead th {\n",
       "        text-align: right;\n",
       "    }\n",
       "</style>\n",
       "<table border=\"1\" class=\"dataframe\">\n",
       "  <thead>\n",
       "    <tr style=\"text-align: right;\">\n",
       "      <th></th>\n",
       "      <th>A</th>\n",
       "      <th>B</th>\n",
       "      <th>C</th>\n",
       "      <th>D</th>\n",
       "      <th>E</th>\n",
       "    </tr>\n",
       "  </thead>\n",
       "  <tbody>\n",
       "    <tr>\n",
       "      <th>0</th>\n",
       "      <td>0.034333</td>\n",
       "      <td>0.252446</td>\n",
       "      <td>0.193971</td>\n",
       "      <td>0.134046</td>\n",
       "      <td>0.900853</td>\n",
       "    </tr>\n",
       "    <tr>\n",
       "      <th>2</th>\n",
       "      <td>0.313901</td>\n",
       "      <td>0.371142</td>\n",
       "      <td>0.044061</td>\n",
       "      <td>0.283885</td>\n",
       "      <td>0.906141</td>\n",
       "    </tr>\n",
       "    <tr>\n",
       "      <th>4</th>\n",
       "      <td>0.010015</td>\n",
       "      <td>0.453662</td>\n",
       "      <td>0.068844</td>\n",
       "      <td>0.998491</td>\n",
       "      <td>0.801819</td>\n",
       "    </tr>\n",
       "    <tr>\n",
       "      <th>6</th>\n",
       "      <td>0.540923</td>\n",
       "      <td>0.276749</td>\n",
       "      <td>0.674476</td>\n",
       "      <td>0.634950</td>\n",
       "      <td>0.858997</td>\n",
       "    </tr>\n",
       "    <tr>\n",
       "      <th>7</th>\n",
       "      <td>0.281827</td>\n",
       "      <td>0.990167</td>\n",
       "      <td>0.981962</td>\n",
       "      <td>0.180517</td>\n",
       "      <td>0.755035</td>\n",
       "    </tr>\n",
       "  </tbody>\n",
       "</table>\n",
       "</div>"
      ],
      "text/plain": [
       "          A         B         C         D         E\n",
       "0  0.034333  0.252446  0.193971  0.134046  0.900853\n",
       "2  0.313901  0.371142  0.044061  0.283885  0.906141\n",
       "4  0.010015  0.453662  0.068844  0.998491  0.801819\n",
       "6  0.540923  0.276749  0.674476  0.634950  0.858997\n",
       "7  0.281827  0.990167  0.981962  0.180517  0.755035"
      ]
     },
     "execution_count": 32,
     "metadata": {},
     "output_type": "execute_result"
    }
   ],
   "source": [
    "newdf1.head()"
   ]
  },
  {
   "cell_type": "code",
   "execution_count": 33,
   "id": "b52d925f",
   "metadata": {},
   "outputs": [
    {
     "data": {
      "text/html": [
       "<div>\n",
       "<style scoped>\n",
       "    .dataframe tbody tr th:only-of-type {\n",
       "        vertical-align: middle;\n",
       "    }\n",
       "\n",
       "    .dataframe tbody tr th {\n",
       "        vertical-align: top;\n",
       "    }\n",
       "\n",
       "    .dataframe thead th {\n",
       "        text-align: right;\n",
       "    }\n",
       "</style>\n",
       "<table border=\"1\" class=\"dataframe\">\n",
       "  <thead>\n",
       "    <tr style=\"text-align: right;\">\n",
       "      <th></th>\n",
       "      <th>A</th>\n",
       "      <th>B</th>\n",
       "      <th>C</th>\n",
       "      <th>D</th>\n",
       "      <th>E</th>\n",
       "    </tr>\n",
       "  </thead>\n",
       "  <tbody>\n",
       "    <tr>\n",
       "      <th>0</th>\n",
       "      <td>0.034333</td>\n",
       "      <td>0.252446</td>\n",
       "      <td>0.193971</td>\n",
       "      <td>0.134046</td>\n",
       "      <td>0.900853</td>\n",
       "    </tr>\n",
       "    <tr>\n",
       "      <th>1</th>\n",
       "      <td>0.313901</td>\n",
       "      <td>0.371142</td>\n",
       "      <td>0.044061</td>\n",
       "      <td>0.283885</td>\n",
       "      <td>0.906141</td>\n",
       "    </tr>\n",
       "    <tr>\n",
       "      <th>2</th>\n",
       "      <td>0.010015</td>\n",
       "      <td>0.453662</td>\n",
       "      <td>0.068844</td>\n",
       "      <td>0.998491</td>\n",
       "      <td>0.801819</td>\n",
       "    </tr>\n",
       "    <tr>\n",
       "      <th>3</th>\n",
       "      <td>0.540923</td>\n",
       "      <td>0.276749</td>\n",
       "      <td>0.674476</td>\n",
       "      <td>0.634950</td>\n",
       "      <td>0.858997</td>\n",
       "    </tr>\n",
       "    <tr>\n",
       "      <th>4</th>\n",
       "      <td>0.281827</td>\n",
       "      <td>0.990167</td>\n",
       "      <td>0.981962</td>\n",
       "      <td>0.180517</td>\n",
       "      <td>0.755035</td>\n",
       "    </tr>\n",
       "  </tbody>\n",
       "</table>\n",
       "</div>"
      ],
      "text/plain": [
       "          A         B         C         D         E\n",
       "0  0.034333  0.252446  0.193971  0.134046  0.900853\n",
       "1  0.313901  0.371142  0.044061  0.283885  0.906141\n",
       "2  0.010015  0.453662  0.068844  0.998491  0.801819\n",
       "3  0.540923  0.276749  0.674476  0.634950  0.858997\n",
       "4  0.281827  0.990167  0.981962  0.180517  0.755035"
      ]
     },
     "execution_count": 33,
     "metadata": {},
     "output_type": "execute_result"
    }
   ],
   "source": [
    "newdf1.reset_index(drop=True).head()"
   ]
  },
  {
   "attachments": {},
   "cell_type": "markdown",
   "id": "10e22bb1",
   "metadata": {},
   "source": [
    "reset_index reset the index after updating the dataframe"
   ]
  },
  {
   "cell_type": "code",
   "execution_count": null,
   "id": "8b2305f7",
   "metadata": {},
   "outputs": [],
   "source": []
  }
 ],
 "metadata": {
  "kernelspec": {
   "display_name": "Python 3 (ipykernel)",
   "language": "python",
   "name": "python3"
  },
  "language_info": {
   "codemirror_mode": {
    "name": "ipython",
    "version": 3
   },
   "file_extension": ".py",
   "mimetype": "text/x-python",
   "name": "python",
   "nbconvert_exporter": "python",
   "pygments_lexer": "ipython3",
   "version": "3.10.11"
  }
 },
 "nbformat": 4,
 "nbformat_minor": 5
}
